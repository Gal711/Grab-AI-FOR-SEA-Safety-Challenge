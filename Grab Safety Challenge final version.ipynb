{
 "cells": [
  {
   "cell_type": "markdown",
   "metadata": {},
   "source": [
    "## Grab Safety Challenge"
   ]
  },
  {
   "cell_type": "markdown",
   "metadata": {},
   "source": [
    "#### Import necessary Libraries"
   ]
  },
  {
   "cell_type": "code",
   "execution_count": 42,
   "metadata": {},
   "outputs": [
    {
     "name": "stdout",
     "output_type": "stream",
     "text": [
      "Libraries imported.\n"
     ]
    }
   ],
   "source": [
    "import numpy as np # library to handle data in a vectorized manner\n",
    "\n",
    "import pandas as pd # library for data analsysis\n",
    "pd.set_option('display.max_columns', None)\n",
    "pd.set_option('display.max_rows', None)\n",
    "\n",
    "from sklearn.metrics import classification_report, jaccard_similarity_score, log_loss\n",
    "from sklearn.linear_model import LogisticRegression\n",
    "\n",
    "from mpl_toolkits import mplot3d\n",
    "%matplotlib inline\n",
    "import matplotlib.pyplot as plt\n",
    "\n",
    "#machine learning\n",
    "from catboost import CatBoostRegressor, Pool\n",
    "import tensorflow as tf\n",
    "#data scaling\n",
    "from sklearn.preprocessing import StandardScaler\n",
    "#hyperparameter optimization\n",
    "from sklearn.model_selection import GridSearchCV\n",
    "#support vector machine model\n",
    "from sklearn.svm import NuSVR, SVR\n",
    "#kernel ridge model\n",
    "from sklearn.kernel_ridge import KernelRidge\n",
    "\n",
    "print('Libraries imported.')"
   ]
  },
  {
   "cell_type": "markdown",
   "metadata": {},
   "source": [
    "### Data Extraction"
   ]
  },
  {
   "cell_type": "code",
   "execution_count": 299,
   "metadata": {},
   "outputs": [
    {
     "data": {
      "text/plain": [
       "(16135561, 11)"
      ]
     },
     "execution_count": 299,
     "metadata": {},
     "output_type": "execute_result"
    }
   ],
   "source": [
    "i=0\n",
    "features = pd.DataFrame()\n",
    "while i < 10:\n",
    "    temp = pd.read_csv('safety/features/part-0000'+ str(i) +'-e6120af0-10c2-4248-97c4-81baf4304e5c-c000.csv')\n",
    "    features = features.append(temp)\n",
    "    i+=1\n",
    "features.shape"
   ]
  },
  {
   "cell_type": "code",
   "execution_count": 303,
   "metadata": {},
   "outputs": [],
   "source": [
    "labels = pd.read_csv('safety/labels/part-00000-e9445087-aa0a-433b-a7f6-7f4c19d78ad6-c000.csv')"
   ]
  },
  {
   "cell_type": "markdown",
   "metadata": {},
   "source": [
    "### Data Cleaning"
   ]
  },
  {
   "cell_type": "markdown",
   "metadata": {},
   "source": [
    "After observing the data, I saw that some retrieved telematic data were wrong\n",
    "\n",
    "Here some telemetic data had a period of more than 600000000 seconds which is impossible so I am removing them"
   ]
  },
  {
   "cell_type": "code",
   "execution_count": 301,
   "metadata": {},
   "outputs": [],
   "source": [
    "#index_to_delete = features.loc[features['second'] == float(features[['second']].max(axis=0))].index.item()\n",
    "index_to_delete = features.loc[features['second'] > 600000000.0].index\n",
    "\n",
    "features.drop(index_to_delete, inplace=True)"
   ]
  },
  {
   "cell_type": "markdown",
   "metadata": {},
   "source": [
    "Moreover some bookingID were labeled as a dangerous ride (1) and a normal ride (0) so I decided to delete these duplicates"
   ]
  },
  {
   "cell_type": "code",
   "execution_count": 304,
   "metadata": {},
   "outputs": [],
   "source": [
    "duplicateRowsDF = labels[labels.duplicated(subset='bookingID')]['bookingID'].values\n",
    "labels.drop_duplicates(subset='bookingID', keep=False, inplace=True)\n",
    "\n",
    "index_to_delete = features.loc[features['bookingID'].isin(duplicateRowsDF)].index\n",
    "features.drop(index_to_delete, inplace=True)"
   ]
  },
  {
   "cell_type": "markdown",
   "metadata": {},
   "source": [
    "### Exploratory Data Analysis"
   ]
  },
  {
   "cell_type": "markdown",
   "metadata": {},
   "source": [
    "Let's first do some exploratory data analysis in order to see how the data is articulated and get a first impression of it"
   ]
  },
  {
   "cell_type": "code",
   "execution_count": 305,
   "metadata": {},
   "outputs": [
    {
     "name": "stdout",
     "output_type": "stream",
     "text": [
      "(15947251, 11)\n",
      "(19982, 2)\n"
     ]
    }
   ],
   "source": [
    "print(features.shape)\n",
    "print(labels.shape)"
   ]
  },
  {
   "cell_type": "code",
   "execution_count": 8,
   "metadata": {},
   "outputs": [
    {
     "data": {
      "text/html": [
       "<div>\n",
       "<style scoped>\n",
       "    .dataframe tbody tr th:only-of-type {\n",
       "        vertical-align: middle;\n",
       "    }\n",
       "\n",
       "    .dataframe tbody tr th {\n",
       "        vertical-align: top;\n",
       "    }\n",
       "\n",
       "    .dataframe thead th {\n",
       "        text-align: right;\n",
       "    }\n",
       "</style>\n",
       "<table border=\"1\" class=\"dataframe\">\n",
       "  <thead>\n",
       "    <tr style=\"text-align: right;\">\n",
       "      <th></th>\n",
       "      <th>bookingID</th>\n",
       "      <th>Accuracy</th>\n",
       "      <th>Bearing</th>\n",
       "      <th>acceleration_x</th>\n",
       "      <th>acceleration_y</th>\n",
       "      <th>acceleration_z</th>\n",
       "      <th>gyro_x</th>\n",
       "      <th>gyro_y</th>\n",
       "      <th>gyro_z</th>\n",
       "      <th>second</th>\n",
       "      <th>Speed</th>\n",
       "    </tr>\n",
       "  </thead>\n",
       "  <tbody>\n",
       "    <tr>\n",
       "      <th>0</th>\n",
       "      <td>1202590843006</td>\n",
       "      <td>3.000</td>\n",
       "      <td>353.0</td>\n",
       "      <td>1.228867</td>\n",
       "      <td>8.900100</td>\n",
       "      <td>3.986968</td>\n",
       "      <td>0.008221</td>\n",
       "      <td>0.002269</td>\n",
       "      <td>-0.009966</td>\n",
       "      <td>1362.0</td>\n",
       "      <td>0.000000</td>\n",
       "    </tr>\n",
       "    <tr>\n",
       "      <th>1</th>\n",
       "      <td>274877907034</td>\n",
       "      <td>9.293</td>\n",
       "      <td>17.0</td>\n",
       "      <td>0.032775</td>\n",
       "      <td>8.659933</td>\n",
       "      <td>4.737300</td>\n",
       "      <td>0.024629</td>\n",
       "      <td>0.004028</td>\n",
       "      <td>-0.010858</td>\n",
       "      <td>257.0</td>\n",
       "      <td>0.190000</td>\n",
       "    </tr>\n",
       "    <tr>\n",
       "      <th>2</th>\n",
       "      <td>884763263056</td>\n",
       "      <td>3.000</td>\n",
       "      <td>189.0</td>\n",
       "      <td>1.139675</td>\n",
       "      <td>9.545974</td>\n",
       "      <td>1.951334</td>\n",
       "      <td>-0.006899</td>\n",
       "      <td>-0.015080</td>\n",
       "      <td>0.001122</td>\n",
       "      <td>973.0</td>\n",
       "      <td>0.667059</td>\n",
       "    </tr>\n",
       "    <tr>\n",
       "      <th>3</th>\n",
       "      <td>1073741824054</td>\n",
       "      <td>3.900</td>\n",
       "      <td>126.0</td>\n",
       "      <td>3.871543</td>\n",
       "      <td>10.386364</td>\n",
       "      <td>-0.136474</td>\n",
       "      <td>0.001344</td>\n",
       "      <td>-0.339601</td>\n",
       "      <td>-0.017956</td>\n",
       "      <td>902.0</td>\n",
       "      <td>7.913285</td>\n",
       "    </tr>\n",
       "    <tr>\n",
       "      <th>4</th>\n",
       "      <td>1056561954943</td>\n",
       "      <td>3.900</td>\n",
       "      <td>50.0</td>\n",
       "      <td>-0.112882</td>\n",
       "      <td>10.550960</td>\n",
       "      <td>-1.560110</td>\n",
       "      <td>0.130568</td>\n",
       "      <td>-0.061697</td>\n",
       "      <td>0.161530</td>\n",
       "      <td>820.0</td>\n",
       "      <td>20.419409</td>\n",
       "    </tr>\n",
       "  </tbody>\n",
       "</table>\n",
       "</div>"
      ],
      "text/plain": [
       "       bookingID  Accuracy  Bearing  acceleration_x  acceleration_y  \\\n",
       "0  1202590843006     3.000    353.0        1.228867        8.900100   \n",
       "1   274877907034     9.293     17.0        0.032775        8.659933   \n",
       "2   884763263056     3.000    189.0        1.139675        9.545974   \n",
       "3  1073741824054     3.900    126.0        3.871543       10.386364   \n",
       "4  1056561954943     3.900     50.0       -0.112882       10.550960   \n",
       "\n",
       "   acceleration_z    gyro_x    gyro_y    gyro_z  second      Speed  \n",
       "0        3.986968  0.008221  0.002269 -0.009966  1362.0   0.000000  \n",
       "1        4.737300  0.024629  0.004028 -0.010858   257.0   0.190000  \n",
       "2        1.951334 -0.006899 -0.015080  0.001122   973.0   0.667059  \n",
       "3       -0.136474  0.001344 -0.339601 -0.017956   902.0   7.913285  \n",
       "4       -1.560110  0.130568 -0.061697  0.161530   820.0  20.419409  "
      ]
     },
     "execution_count": 8,
     "metadata": {},
     "output_type": "execute_result"
    }
   ],
   "source": [
    "features.head()"
   ]
  },
  {
   "cell_type": "code",
   "execution_count": 306,
   "metadata": {},
   "outputs": [
    {
     "data": {
      "text/html": [
       "<div>\n",
       "<style scoped>\n",
       "    .dataframe tbody tr th:only-of-type {\n",
       "        vertical-align: middle;\n",
       "    }\n",
       "\n",
       "    .dataframe tbody tr th {\n",
       "        vertical-align: top;\n",
       "    }\n",
       "\n",
       "    .dataframe thead th {\n",
       "        text-align: right;\n",
       "    }\n",
       "</style>\n",
       "<table border=\"1\" class=\"dataframe\">\n",
       "  <thead>\n",
       "    <tr style=\"text-align: right;\">\n",
       "      <th></th>\n",
       "      <th>bookingID</th>\n",
       "      <th>Accuracy</th>\n",
       "      <th>Bearing</th>\n",
       "      <th>acceleration_x</th>\n",
       "      <th>acceleration_y</th>\n",
       "      <th>acceleration_z</th>\n",
       "      <th>gyro_x</th>\n",
       "      <th>gyro_y</th>\n",
       "      <th>gyro_z</th>\n",
       "      <th>second</th>\n",
       "      <th>Speed</th>\n",
       "    </tr>\n",
       "  </thead>\n",
       "  <tbody>\n",
       "    <tr>\n",
       "      <th>count</th>\n",
       "      <td>1.594725e+07</td>\n",
       "      <td>1.594725e+07</td>\n",
       "      <td>1.594725e+07</td>\n",
       "      <td>1.594725e+07</td>\n",
       "      <td>1.594725e+07</td>\n",
       "      <td>1.594725e+07</td>\n",
       "      <td>1.594725e+07</td>\n",
       "      <td>1.594725e+07</td>\n",
       "      <td>1.594725e+07</td>\n",
       "      <td>1.594725e+07</td>\n",
       "      <td>1.594725e+07</td>\n",
       "    </tr>\n",
       "    <tr>\n",
       "      <th>mean</th>\n",
       "      <td>8.184397e+11</td>\n",
       "      <td>1.161373e+01</td>\n",
       "      <td>1.689593e+02</td>\n",
       "      <td>6.897941e-02</td>\n",
       "      <td>4.473781e+00</td>\n",
       "      <td>8.958355e-01</td>\n",
       "      <td>-1.704463e-03</td>\n",
       "      <td>3.102588e-04</td>\n",
       "      <td>-2.645680e-04</td>\n",
       "      <td>6.016761e+02</td>\n",
       "      <td>9.006460e+00</td>\n",
       "    </tr>\n",
       "    <tr>\n",
       "      <th>std</th>\n",
       "      <td>4.951545e+11</td>\n",
       "      <td>8.699746e+01</td>\n",
       "      <td>1.072968e+02</td>\n",
       "      <td>1.424652e+00</td>\n",
       "      <td>8.128327e+00</td>\n",
       "      <td>3.250140e+00</td>\n",
       "      <td>1.444395e-01</td>\n",
       "      <td>3.397282e-01</td>\n",
       "      <td>1.481788e-01</td>\n",
       "      <td>4.627230e+02</td>\n",
       "      <td>8.106554e+00</td>\n",
       "    </tr>\n",
       "    <tr>\n",
       "      <th>min</th>\n",
       "      <td>0.000000e+00</td>\n",
       "      <td>7.500000e-01</td>\n",
       "      <td>0.000000e+00</td>\n",
       "      <td>-7.841969e+01</td>\n",
       "      <td>-7.299412e+01</td>\n",
       "      <td>-7.844842e+01</td>\n",
       "      <td>-4.845575e+01</td>\n",
       "      <td>-7.488861e+01</td>\n",
       "      <td>-5.355445e+01</td>\n",
       "      <td>0.000000e+00</td>\n",
       "      <td>-2.000000e+00</td>\n",
       "    </tr>\n",
       "    <tr>\n",
       "      <th>25%</th>\n",
       "      <td>3.779571e+11</td>\n",
       "      <td>3.900000e+00</td>\n",
       "      <td>7.800000e+01</td>\n",
       "      <td>-5.084229e-01</td>\n",
       "      <td>-1.929148e+00</td>\n",
       "      <td>-9.299422e-01</td>\n",
       "      <td>-2.679326e-02</td>\n",
       "      <td>-2.993545e-02</td>\n",
       "      <td>-1.877494e-02</td>\n",
       "      <td>2.410000e+02</td>\n",
       "      <td>1.020000e+00</td>\n",
       "    </tr>\n",
       "    <tr>\n",
       "      <th>50%</th>\n",
       "      <td>8.074539e+11</td>\n",
       "      <td>4.243000e+00</td>\n",
       "      <td>1.687686e+02</td>\n",
       "      <td>6.124368e-02</td>\n",
       "      <td>9.082404e+00</td>\n",
       "      <td>7.769897e-01</td>\n",
       "      <td>-6.432411e-04</td>\n",
       "      <td>2.663161e-04</td>\n",
       "      <td>-3.787364e-05</td>\n",
       "      <td>5.200000e+02</td>\n",
       "      <td>7.530000e+00</td>\n",
       "    </tr>\n",
       "    <tr>\n",
       "      <th>75%</th>\n",
       "      <td>1.254130e+12</td>\n",
       "      <td>8.000000e+00</td>\n",
       "      <td>2.629526e+02</td>\n",
       "      <td>6.347809e-01</td>\n",
       "      <td>9.709895e+00</td>\n",
       "      <td>2.751022e+00</td>\n",
       "      <td>2.331543e-02</td>\n",
       "      <td>3.144734e-02</td>\n",
       "      <td>1.823250e-02</td>\n",
       "      <td>8.620000e+02</td>\n",
       "      <td>1.548000e+01</td>\n",
       "    </tr>\n",
       "    <tr>\n",
       "      <th>max</th>\n",
       "      <td>1.709397e+12</td>\n",
       "      <td>6.070101e+03</td>\n",
       "      <td>3.599995e+02</td>\n",
       "      <td>6.687346e+01</td>\n",
       "      <td>7.505589e+01</td>\n",
       "      <td>7.805576e+01</td>\n",
       "      <td>3.983975e+01</td>\n",
       "      <td>8.031496e+01</td>\n",
       "      <td>6.630078e+01</td>\n",
       "      <td>8.235000e+03</td>\n",
       "      <td>1.480186e+02</td>\n",
       "    </tr>\n",
       "  </tbody>\n",
       "</table>\n",
       "</div>"
      ],
      "text/plain": [
       "          bookingID      Accuracy       Bearing  acceleration_x  \\\n",
       "count  1.594725e+07  1.594725e+07  1.594725e+07    1.594725e+07   \n",
       "mean   8.184397e+11  1.161373e+01  1.689593e+02    6.897941e-02   \n",
       "std    4.951545e+11  8.699746e+01  1.072968e+02    1.424652e+00   \n",
       "min    0.000000e+00  7.500000e-01  0.000000e+00   -7.841969e+01   \n",
       "25%    3.779571e+11  3.900000e+00  7.800000e+01   -5.084229e-01   \n",
       "50%    8.074539e+11  4.243000e+00  1.687686e+02    6.124368e-02   \n",
       "75%    1.254130e+12  8.000000e+00  2.629526e+02    6.347809e-01   \n",
       "max    1.709397e+12  6.070101e+03  3.599995e+02    6.687346e+01   \n",
       "\n",
       "       acceleration_y  acceleration_z        gyro_x        gyro_y  \\\n",
       "count    1.594725e+07    1.594725e+07  1.594725e+07  1.594725e+07   \n",
       "mean     4.473781e+00    8.958355e-01 -1.704463e-03  3.102588e-04   \n",
       "std      8.128327e+00    3.250140e+00  1.444395e-01  3.397282e-01   \n",
       "min     -7.299412e+01   -7.844842e+01 -4.845575e+01 -7.488861e+01   \n",
       "25%     -1.929148e+00   -9.299422e-01 -2.679326e-02 -2.993545e-02   \n",
       "50%      9.082404e+00    7.769897e-01 -6.432411e-04  2.663161e-04   \n",
       "75%      9.709895e+00    2.751022e+00  2.331543e-02  3.144734e-02   \n",
       "max      7.505589e+01    7.805576e+01  3.983975e+01  8.031496e+01   \n",
       "\n",
       "             gyro_z        second         Speed  \n",
       "count  1.594725e+07  1.594725e+07  1.594725e+07  \n",
       "mean  -2.645680e-04  6.016761e+02  9.006460e+00  \n",
       "std    1.481788e-01  4.627230e+02  8.106554e+00  \n",
       "min   -5.355445e+01  0.000000e+00 -2.000000e+00  \n",
       "25%   -1.877494e-02  2.410000e+02  1.020000e+00  \n",
       "50%   -3.787364e-05  5.200000e+02  7.530000e+00  \n",
       "75%    1.823250e-02  8.620000e+02  1.548000e+01  \n",
       "max    6.630078e+01  8.235000e+03  1.480186e+02  "
      ]
     },
     "execution_count": 306,
     "metadata": {},
     "output_type": "execute_result"
    }
   ],
   "source": [
    "features.describe()"
   ]
  },
  {
   "cell_type": "code",
   "execution_count": 307,
   "metadata": {},
   "outputs": [
    {
     "data": {
      "image/png": "[encoded data removed]",
      "text/plain": [
       "<Figure size 1440x432 with 2 Axes>"
      ]
     },
     "metadata": {
      "needs_background": "light"
     },
     "output_type": "display_data"
    }
   ],
   "source": [
    "fig = plt.figure() # create figure\n",
    "\n",
    "ax0 = fig.add_subplot(1, 2, 1) # add subplot 1 (1 row, 2 columns, first plot)\n",
    "ax1 = fig.add_subplot(1, 2, 2) # add subplot 2 (1 row, 2 columns, second plot). See tip below**\n",
    "box0 = features[['acceleration_x','acceleration_y','acceleration_z']]\n",
    "box1 = features[['gyro_x','gyro_y','gyro_z']]\n",
    "\n",
    "# Subplot 1: Box plot\n",
    "box0.plot(kind='box', figsize=(20, 6), ax=ax0) # add to subplot 1\n",
    "\n",
    "\n",
    "# Subplot 2: Line plot\n",
    "box1.plot(kind='box', figsize=(20, 6), ax=ax1) # add to subplot 2\n",
    "\n",
    "plt.show()"
   ]
  },
  {
   "cell_type": "code",
   "execution_count": 66,
   "metadata": {},
   "outputs": [
    {
     "data": {
      "image/png": "[encoded data removed]",
      "text/plain": [
       "<Figure size 1440x432 with 1 Axes>"
      ]
     },
     "metadata": {
      "needs_background": "light"
     },
     "output_type": "display_data"
    }
   ],
   "source": [
    "fig = plt.figure() # create figure\n",
    "\n",
    "ax2 = fig.add_subplot(1, 2, 1) # add subplot 1 (1 row, 2 columns, first plot)\n",
    "box2 = features[['Accuracy','Bearing','second']]\n",
    "\n",
    "# Subplot 1: Box plot\n",
    "box2.plot(kind='box', figsize=(20, 6), ax=ax2) # add to subplot 1\n",
    "\n",
    "plt.show()"
   ]
  },
  {
   "cell_type": "markdown",
   "metadata": {},
   "source": [
    "As we can see on the graph of these boxplot, there is a lot of outliers in the different columns of the dataset. \n",
    "\n",
    "My intuition there was, if a driver is driving dangerously, then he must accelerate more often and stronger than the safe drivers. So I decided to calculate the number of outliers for each booking and see a lot of ouliers was meaning an unsafe drive"
   ]
  },
  {
   "cell_type": "markdown",
   "metadata": {},
   "source": [
    "### Features engineering"
   ]
  },
  {
   "cell_type": "markdown",
   "metadata": {},
   "source": [
    "'count_outliers' is the function that will calculate the number of outliers per bookingID for each columns \n",
    "I considered that an outliers was each values that was higher or lower than 2.5 the standard deviation of the columns"
   ]
  },
  {
   "cell_type": "code",
   "execution_count": 308,
   "metadata": {},
   "outputs": [],
   "source": [
    "def count_outliers(col, m = 2.5):\n",
    "    #Extract data from the column\n",
    "    data_col = features[['bookingID',col]].set_index('bookingID')\n",
    "    #Substract of the median\n",
    "    data_col = data_col - features[[col]].median(axis=0)\n",
    "    data_col = data_col.abs()\n",
    "    #Calcul of the new median\n",
    "    data_col_median = data_col.median(axis=0)\n",
    "    #We only keep data that are more than twice the median\n",
    "    data_col = data_col/data_col_median\n",
    "    data_col = data_col[data_col>m]\n",
    "    data_col.dropna(inplace=True)\n",
    "    #We count for each booking the number of outliers\n",
    "    data_col = data_col.groupby(data_col.index).count()\n",
    "    data_col.rename(columns={col:col+'_outliers'}, inplace=True)\n",
    "    return data_col"
   ]
  },
  {
   "cell_type": "code",
   "execution_count": 309,
   "metadata": {},
   "outputs": [
    {
     "data": {
      "text/html": [
       "<div>\n",
       "<style scoped>\n",
       "    .dataframe tbody tr th:only-of-type {\n",
       "        vertical-align: middle;\n",
       "    }\n",
       "\n",
       "    .dataframe tbody tr th {\n",
       "        vertical-align: top;\n",
       "    }\n",
       "\n",
       "    .dataframe thead th {\n",
       "        text-align: right;\n",
       "    }\n",
       "</style>\n",
       "<table border=\"1\" class=\"dataframe\">\n",
       "  <thead>\n",
       "    <tr style=\"text-align: right;\">\n",
       "      <th></th>\n",
       "      <th>Accuracy_outliers</th>\n",
       "      <th>acceleration_x_outliers</th>\n",
       "      <th>acceleration_y_outliers</th>\n",
       "      <th>acceleration_z_outliers</th>\n",
       "      <th>gyro_x_outliers</th>\n",
       "      <th>gyro_y_outliers</th>\n",
       "      <th>gyro_z_outliers</th>\n",
       "      <th>second_outliers</th>\n",
       "      <th>Speed_outliers</th>\n",
       "    </tr>\n",
       "    <tr>\n",
       "      <th>bookingID</th>\n",
       "      <th></th>\n",
       "      <th></th>\n",
       "      <th></th>\n",
       "      <th></th>\n",
       "      <th></th>\n",
       "      <th></th>\n",
       "      <th></th>\n",
       "      <th></th>\n",
       "      <th></th>\n",
       "    </tr>\n",
       "  </thead>\n",
       "  <tbody>\n",
       "    <tr>\n",
       "      <th>111669149733</th>\n",
       "      <td>33.0</td>\n",
       "      <td>29.0</td>\n",
       "      <td>4.0</td>\n",
       "      <td>NaN</td>\n",
       "      <td>12.0</td>\n",
       "      <td>112.0</td>\n",
       "      <td>80.0</td>\n",
       "      <td>NaN</td>\n",
       "      <td>NaN</td>\n",
       "    </tr>\n",
       "    <tr>\n",
       "      <th>335007449205</th>\n",
       "      <td>39.0</td>\n",
       "      <td>166.0</td>\n",
       "      <td>9.0</td>\n",
       "      <td>21.0</td>\n",
       "      <td>194.0</td>\n",
       "      <td>398.0</td>\n",
       "      <td>103.0</td>\n",
       "      <td>NaN</td>\n",
       "      <td>NaN</td>\n",
       "    </tr>\n",
       "    <tr>\n",
       "      <th>171798691856</th>\n",
       "      <td>367.0</td>\n",
       "      <td>14.0</td>\n",
       "      <td>8.0</td>\n",
       "      <td>NaN</td>\n",
       "      <td>79.0</td>\n",
       "      <td>52.0</td>\n",
       "      <td>150.0</td>\n",
       "      <td>NaN</td>\n",
       "      <td>2.0</td>\n",
       "    </tr>\n",
       "    <tr>\n",
       "      <th>1520418422900</th>\n",
       "      <td>12.0</td>\n",
       "      <td>97.0</td>\n",
       "      <td>12.0</td>\n",
       "      <td>12.0</td>\n",
       "      <td>22.0</td>\n",
       "      <td>145.0</td>\n",
       "      <td>47.0</td>\n",
       "      <td>NaN</td>\n",
       "      <td>NaN</td>\n",
       "    </tr>\n",
       "    <tr>\n",
       "      <th>798863917116</th>\n",
       "      <td>2.0</td>\n",
       "      <td>137.0</td>\n",
       "      <td>27.0</td>\n",
       "      <td>4.0</td>\n",
       "      <td>220.0</td>\n",
       "      <td>203.0</td>\n",
       "      <td>54.0</td>\n",
       "      <td>NaN</td>\n",
       "      <td>NaN</td>\n",
       "    </tr>\n",
       "  </tbody>\n",
       "</table>\n",
       "</div>"
      ],
      "text/plain": [
       "               Accuracy_outliers  acceleration_x_outliers  \\\n",
       "bookingID                                                   \n",
       "111669149733                33.0                     29.0   \n",
       "335007449205                39.0                    166.0   \n",
       "171798691856               367.0                     14.0   \n",
       "1520418422900               12.0                     97.0   \n",
       "798863917116                 2.0                    137.0   \n",
       "\n",
       "               acceleration_y_outliers  acceleration_z_outliers  \\\n",
       "bookingID                                                         \n",
       "111669149733                       4.0                      NaN   \n",
       "335007449205                       9.0                     21.0   \n",
       "171798691856                       8.0                      NaN   \n",
       "1520418422900                     12.0                     12.0   \n",
       "798863917116                      27.0                      4.0   \n",
       "\n",
       "               gyro_x_outliers  gyro_y_outliers  gyro_z_outliers  \\\n",
       "bookingID                                                          \n",
       "111669149733              12.0            112.0             80.0   \n",
       "335007449205             194.0            398.0            103.0   \n",
       "171798691856              79.0             52.0            150.0   \n",
       "1520418422900             22.0            145.0             47.0   \n",
       "798863917116             220.0            203.0             54.0   \n",
       "\n",
       "               second_outliers  Speed_outliers  \n",
       "bookingID                                       \n",
       "111669149733               NaN             NaN  \n",
       "335007449205               NaN             NaN  \n",
       "171798691856               NaN             2.0  \n",
       "1520418422900              NaN             NaN  \n",
       "798863917116               NaN             NaN  "
      ]
     },
     "execution_count": 309,
     "metadata": {},
     "output_type": "execute_result"
    }
   ],
   "source": [
    "features_outliers = labels[['bookingID']].set_index('bookingID')\n",
    "for col in features.columns:\n",
    "    if(col not in ('bookingID', 'Bearing')):\n",
    "        temp = count_outliers(col)\n",
    "        features_outliers = features_outliers.join(temp)\n",
    "        \n",
    "features_outliers.head()"
   ]
  },
  {
   "cell_type": "code",
   "execution_count": 310,
   "metadata": {},
   "outputs": [
    {
     "data": {
      "image/png": "[encoded data removed]",
      "text/plain": [
       "<Figure size 1440x864 with 4 Axes>"
      ]
     },
     "metadata": {
      "needs_background": "light"
     },
     "output_type": "display_data"
    }
   ],
   "source": [
    "#test = labels.merge(accel_y_outliers2, how='left', left_on='bookingID', right_on=accel_y_outliers2.index)\n",
    "#test.sort_values(by='acceleration_y', ascending=True, inplace=True)\n",
    "fig = plt.figure() # create figure\n",
    "\n",
    "nb_plot = 1\n",
    "for col in features_outliers.columns:\n",
    "    if(nb_plot<5):\n",
    "        ax = fig.add_subplot(2, 2, nb_plot)\n",
    "        box = labels.merge(features_outliers[[col]], how='left', left_on='bookingID', right_on=features_outliers.index)\n",
    "        box.plot(kind='scatter', x=col, y='label', figsize=(20, 12), ax=ax)\n",
    "        nb_plot+=1\n",
    "\n",
    "plt.show()"
   ]
  },
  {
   "cell_type": "code",
   "execution_count": 311,
   "metadata": {},
   "outputs": [
    {
     "data": {
      "image/png": "[encoded data removed]",
      "text/plain": [
       "<Figure size 1440x864 with 4 Axes>"
      ]
     },
     "metadata": {
      "needs_background": "light"
     },
     "output_type": "display_data"
    }
   ],
   "source": [
    "fig = plt.figure() # create figure\n",
    "nb_plot = 1\n",
    "for col in features_outliers.columns:\n",
    "    if(col not in ('Accuracy_outliers','acceleration_x_outliers','acceleration_y_outliers','acceleration_z_outliers','second_outliers')):\n",
    "        ax = fig.add_subplot(2, 2, nb_plot)\n",
    "        box = labels.merge(features_outliers[[col]], how='left', left_on='bookingID', right_on=features_outliers.index)\n",
    "        box.plot(kind='scatter', x=col, y='label', figsize=(20, 12), ax=ax)\n",
    "        nb_plot+=1\n",
    "        \n",
    "plt.show()"
   ]
  },
  {
   "cell_type": "markdown",
   "metadata": {},
   "source": [
    "#### Conclusion\n",
    "\n",
    "As we can see on the scatter plots, there is a clear distinction for the bookingID that have a lot of outliers, for any columns except Speed, having a very important number of outliers means that the drive was dangerous. \n",
    "\n",
    "But the problem is for a lower number of outliers, the difference between an unsafe and safe drive is not clear, and it will be complicated to have a strong precision with a standard machine learning algorithm"
   ]
  },
  {
   "cell_type": "markdown",
   "metadata": {},
   "source": [
    "Here I will group the data using groupby on the bookingID and keeping the mean for each columns, then I add the tab of outliers\n",
    "\n",
    "I decided to only keep acceleration and gyro data because speed was really not relevant between a safe and unsafe drive"
   ]
  },
  {
   "cell_type": "code",
   "execution_count": 313,
   "metadata": {},
   "outputs": [
    {
     "data": {
      "text/html": [
       "<div>\n",
       "<style scoped>\n",
       "    .dataframe tbody tr th:only-of-type {\n",
       "        vertical-align: middle;\n",
       "    }\n",
       "\n",
       "    .dataframe tbody tr th {\n",
       "        vertical-align: top;\n",
       "    }\n",
       "\n",
       "    .dataframe thead th {\n",
       "        text-align: right;\n",
       "    }\n",
       "</style>\n",
       "<table border=\"1\" class=\"dataframe\">\n",
       "  <thead>\n",
       "    <tr style=\"text-align: right;\">\n",
       "      <th></th>\n",
       "      <th>acceleration_x</th>\n",
       "      <th>acceleration_x_outliers</th>\n",
       "      <th>acceleration_y</th>\n",
       "      <th>acceleration_y_outliers</th>\n",
       "      <th>acceleration_z</th>\n",
       "      <th>acceleration_z_outliers</th>\n",
       "      <th>gyro_x</th>\n",
       "      <th>gyro_x_outliers</th>\n",
       "      <th>gyro_z</th>\n",
       "      <th>gyro_z_outliers</th>\n",
       "    </tr>\n",
       "    <tr>\n",
       "      <th>bookingID</th>\n",
       "      <th></th>\n",
       "      <th></th>\n",
       "      <th></th>\n",
       "      <th></th>\n",
       "      <th></th>\n",
       "      <th></th>\n",
       "      <th></th>\n",
       "      <th></th>\n",
       "      <th></th>\n",
       "      <th></th>\n",
       "    </tr>\n",
       "  </thead>\n",
       "  <tbody>\n",
       "    <tr>\n",
       "      <th>111669149733</th>\n",
       "      <td>0.114619</td>\n",
       "      <td>29.0</td>\n",
       "      <td>9.771916</td>\n",
       "      <td>4.0</td>\n",
       "      <td>0.038113</td>\n",
       "      <td>NaN</td>\n",
       "      <td>-0.000651</td>\n",
       "      <td>12.0</td>\n",
       "      <td>0.001066</td>\n",
       "      <td>80.0</td>\n",
       "    </tr>\n",
       "    <tr>\n",
       "      <th>335007449205</th>\n",
       "      <td>0.234235</td>\n",
       "      <td>166.0</td>\n",
       "      <td>9.551120</td>\n",
       "      <td>9.0</td>\n",
       "      <td>0.872932</td>\n",
       "      <td>21.0</td>\n",
       "      <td>-0.002360</td>\n",
       "      <td>194.0</td>\n",
       "      <td>-0.003000</td>\n",
       "      <td>103.0</td>\n",
       "    </tr>\n",
       "    <tr>\n",
       "      <th>171798691856</th>\n",
       "      <td>0.282068</td>\n",
       "      <td>14.0</td>\n",
       "      <td>9.623614</td>\n",
       "      <td>8.0</td>\n",
       "      <td>-0.043747</td>\n",
       "      <td>NaN</td>\n",
       "      <td>-0.009664</td>\n",
       "      <td>79.0</td>\n",
       "      <td>-0.031069</td>\n",
       "      <td>150.0</td>\n",
       "    </tr>\n",
       "    <tr>\n",
       "      <th>1520418422900</th>\n",
       "      <td>-0.533975</td>\n",
       "      <td>97.0</td>\n",
       "      <td>9.821743</td>\n",
       "      <td>12.0</td>\n",
       "      <td>0.734085</td>\n",
       "      <td>12.0</td>\n",
       "      <td>-0.001093</td>\n",
       "      <td>22.0</td>\n",
       "      <td>0.000850</td>\n",
       "      <td>47.0</td>\n",
       "    </tr>\n",
       "    <tr>\n",
       "      <th>798863917116</th>\n",
       "      <td>0.137313</td>\n",
       "      <td>137.0</td>\n",
       "      <td>9.626067</td>\n",
       "      <td>27.0</td>\n",
       "      <td>1.099706</td>\n",
       "      <td>4.0</td>\n",
       "      <td>0.002212</td>\n",
       "      <td>220.0</td>\n",
       "      <td>-0.001026</td>\n",
       "      <td>54.0</td>\n",
       "    </tr>\n",
       "  </tbody>\n",
       "</table>\n",
       "</div>"
      ],
      "text/plain": [
       "               acceleration_x  acceleration_x_outliers  acceleration_y  \\\n",
       "bookingID                                                                \n",
       "111669149733         0.114619                     29.0        9.771916   \n",
       "335007449205         0.234235                    166.0        9.551120   \n",
       "171798691856         0.282068                     14.0        9.623614   \n",
       "1520418422900       -0.533975                     97.0        9.821743   \n",
       "798863917116         0.137313                    137.0        9.626067   \n",
       "\n",
       "               acceleration_y_outliers  acceleration_z  \\\n",
       "bookingID                                                \n",
       "111669149733                       4.0        0.038113   \n",
       "335007449205                       9.0        0.872932   \n",
       "171798691856                       8.0       -0.043747   \n",
       "1520418422900                     12.0        0.734085   \n",
       "798863917116                      27.0        1.099706   \n",
       "\n",
       "               acceleration_z_outliers    gyro_x  gyro_x_outliers    gyro_z  \\\n",
       "bookingID                                                                     \n",
       "111669149733                       NaN -0.000651             12.0  0.001066   \n",
       "335007449205                      21.0 -0.002360            194.0 -0.003000   \n",
       "171798691856                       NaN -0.009664             79.0 -0.031069   \n",
       "1520418422900                     12.0 -0.001093             22.0  0.000850   \n",
       "798863917116                       4.0  0.002212            220.0 -0.001026   \n",
       "\n",
       "               gyro_z_outliers  \n",
       "bookingID                       \n",
       "111669149733              80.0  \n",
       "335007449205             103.0  \n",
       "171798691856             150.0  \n",
       "1520418422900             47.0  \n",
       "798863917116              54.0  "
      ]
     },
     "execution_count": 313,
     "metadata": {},
     "output_type": "execute_result"
    }
   ],
   "source": [
    "features_mean = features.groupby(['bookingID']).mean()\n",
    "features_final = features_outliers.join(features_mean)\n",
    "#features_final = features_final[['Accuracy', 'Accuracy_outliers', 'acceleration_x', 'acceleration_x_outliers','acceleration_y','acceleration_y_outliers','acceleration_z','acceleration_z_outliers','gyro_x','gyro_x_outliers','gyro_y','gyro_y_outliers','gyro_z','gyro_z_outliers','second','second_outliers','Speed','Speed_outliers']]\n",
    "features_final = features_final[['acceleration_x', 'acceleration_x_outliers','acceleration_y','acceleration_y_outliers','acceleration_z','acceleration_z_outliers','gyro_x','gyro_x_outliers','gyro_z','gyro_z_outliers']]\n",
    "features_final.head()"
   ]
  },
  {
   "cell_type": "markdown",
   "metadata": {},
   "source": [
    "### Data Preprocessing"
   ]
  },
  {
   "cell_type": "markdown",
   "metadata": {},
   "source": [
    "Now that we have our final tab, let's do some data preprocessing in order for the machine learning algorithms to be more efficient"
   ]
  },
  {
   "cell_type": "code",
   "execution_count": 314,
   "metadata": {},
   "outputs": [
    {
     "data": {
      "text/html": [
       "<div>\n",
       "<style scoped>\n",
       "    .dataframe tbody tr th:only-of-type {\n",
       "        vertical-align: middle;\n",
       "    }\n",
       "\n",
       "    .dataframe tbody tr th {\n",
       "        vertical-align: top;\n",
       "    }\n",
       "\n",
       "    .dataframe thead th {\n",
       "        text-align: right;\n",
       "    }\n",
       "</style>\n",
       "<table border=\"1\" class=\"dataframe\">\n",
       "  <thead>\n",
       "    <tr style=\"text-align: right;\">\n",
       "      <th></th>\n",
       "      <th>acceleration_x</th>\n",
       "      <th>acceleration_x_outliers</th>\n",
       "      <th>acceleration_y</th>\n",
       "      <th>acceleration_y_outliers</th>\n",
       "      <th>acceleration_z</th>\n",
       "      <th>acceleration_z_outliers</th>\n",
       "      <th>gyro_x</th>\n",
       "      <th>gyro_x_outliers</th>\n",
       "      <th>gyro_z</th>\n",
       "      <th>gyro_z_outliers</th>\n",
       "    </tr>\n",
       "    <tr>\n",
       "      <th>bookingID</th>\n",
       "      <th></th>\n",
       "      <th></th>\n",
       "      <th></th>\n",
       "      <th></th>\n",
       "      <th></th>\n",
       "      <th></th>\n",
       "      <th></th>\n",
       "      <th></th>\n",
       "      <th></th>\n",
       "      <th></th>\n",
       "    </tr>\n",
       "  </thead>\n",
       "  <tbody>\n",
       "    <tr>\n",
       "      <th>111669149733</th>\n",
       "      <td>0.114619</td>\n",
       "      <td>29.0</td>\n",
       "      <td>9.771916</td>\n",
       "      <td>4.0</td>\n",
       "      <td>0.038113</td>\n",
       "      <td>0.0</td>\n",
       "      <td>-0.000651</td>\n",
       "      <td>12.0</td>\n",
       "      <td>0.001066</td>\n",
       "      <td>80.0</td>\n",
       "    </tr>\n",
       "    <tr>\n",
       "      <th>335007449205</th>\n",
       "      <td>0.234235</td>\n",
       "      <td>166.0</td>\n",
       "      <td>9.551120</td>\n",
       "      <td>9.0</td>\n",
       "      <td>0.872932</td>\n",
       "      <td>21.0</td>\n",
       "      <td>-0.002360</td>\n",
       "      <td>194.0</td>\n",
       "      <td>-0.003000</td>\n",
       "      <td>103.0</td>\n",
       "    </tr>\n",
       "    <tr>\n",
       "      <th>171798691856</th>\n",
       "      <td>0.282068</td>\n",
       "      <td>14.0</td>\n",
       "      <td>9.623614</td>\n",
       "      <td>8.0</td>\n",
       "      <td>-0.043747</td>\n",
       "      <td>0.0</td>\n",
       "      <td>-0.009664</td>\n",
       "      <td>79.0</td>\n",
       "      <td>-0.031069</td>\n",
       "      <td>150.0</td>\n",
       "    </tr>\n",
       "    <tr>\n",
       "      <th>1520418422900</th>\n",
       "      <td>-0.533975</td>\n",
       "      <td>97.0</td>\n",
       "      <td>9.821743</td>\n",
       "      <td>12.0</td>\n",
       "      <td>0.734085</td>\n",
       "      <td>12.0</td>\n",
       "      <td>-0.001093</td>\n",
       "      <td>22.0</td>\n",
       "      <td>0.000850</td>\n",
       "      <td>47.0</td>\n",
       "    </tr>\n",
       "    <tr>\n",
       "      <th>798863917116</th>\n",
       "      <td>0.137313</td>\n",
       "      <td>137.0</td>\n",
       "      <td>9.626067</td>\n",
       "      <td>27.0</td>\n",
       "      <td>1.099706</td>\n",
       "      <td>4.0</td>\n",
       "      <td>0.002212</td>\n",
       "      <td>220.0</td>\n",
       "      <td>-0.001026</td>\n",
       "      <td>54.0</td>\n",
       "    </tr>\n",
       "  </tbody>\n",
       "</table>\n",
       "</div>"
      ],
      "text/plain": [
       "               acceleration_x  acceleration_x_outliers  acceleration_y  \\\n",
       "bookingID                                                                \n",
       "111669149733         0.114619                     29.0        9.771916   \n",
       "335007449205         0.234235                    166.0        9.551120   \n",
       "171798691856         0.282068                     14.0        9.623614   \n",
       "1520418422900       -0.533975                     97.0        9.821743   \n",
       "798863917116         0.137313                    137.0        9.626067   \n",
       "\n",
       "               acceleration_y_outliers  acceleration_z  \\\n",
       "bookingID                                                \n",
       "111669149733                       4.0        0.038113   \n",
       "335007449205                       9.0        0.872932   \n",
       "171798691856                       8.0       -0.043747   \n",
       "1520418422900                     12.0        0.734085   \n",
       "798863917116                      27.0        1.099706   \n",
       "\n",
       "               acceleration_z_outliers    gyro_x  gyro_x_outliers    gyro_z  \\\n",
       "bookingID                                                                     \n",
       "111669149733                       0.0 -0.000651             12.0  0.001066   \n",
       "335007449205                      21.0 -0.002360            194.0 -0.003000   \n",
       "171798691856                       0.0 -0.009664             79.0 -0.031069   \n",
       "1520418422900                     12.0 -0.001093             22.0  0.000850   \n",
       "798863917116                       4.0  0.002212            220.0 -0.001026   \n",
       "\n",
       "               gyro_z_outliers  \n",
       "bookingID                       \n",
       "111669149733              80.0  \n",
       "335007449205             103.0  \n",
       "171798691856             150.0  \n",
       "1520418422900             47.0  \n",
       "798863917116              54.0  "
      ]
     },
     "execution_count": 314,
     "metadata": {},
     "output_type": "execute_result"
    }
   ],
   "source": [
    "features_final = features_final.fillna(0)\n",
    "features_final.head()"
   ]
  },
  {
   "cell_type": "markdown",
   "metadata": {},
   "source": [
    "### Data Normalization"
   ]
  },
  {
   "cell_type": "code",
   "execution_count": 315,
   "metadata": {},
   "outputs": [
    {
     "data": {
      "text/html": [
       "<div>\n",
       "<style scoped>\n",
       "    .dataframe tbody tr th:only-of-type {\n",
       "        vertical-align: middle;\n",
       "    }\n",
       "\n",
       "    .dataframe tbody tr th {\n",
       "        vertical-align: top;\n",
       "    }\n",
       "\n",
       "    .dataframe thead th {\n",
       "        text-align: right;\n",
       "    }\n",
       "</style>\n",
       "<table border=\"1\" class=\"dataframe\">\n",
       "  <thead>\n",
       "    <tr style=\"text-align: right;\">\n",
       "      <th></th>\n",
       "      <th>acceleration_x</th>\n",
       "      <th>acceleration_x_outliers</th>\n",
       "      <th>acceleration_y</th>\n",
       "      <th>acceleration_y_outliers</th>\n",
       "      <th>acceleration_z</th>\n",
       "      <th>acceleration_z_outliers</th>\n",
       "      <th>gyro_x</th>\n",
       "      <th>gyro_x_outliers</th>\n",
       "      <th>gyro_z</th>\n",
       "      <th>gyro_z_outliers</th>\n",
       "    </tr>\n",
       "    <tr>\n",
       "      <th>bookingID</th>\n",
       "      <th></th>\n",
       "      <th></th>\n",
       "      <th></th>\n",
       "      <th></th>\n",
       "      <th></th>\n",
       "      <th></th>\n",
       "      <th></th>\n",
       "      <th></th>\n",
       "      <th></th>\n",
       "      <th></th>\n",
       "    </tr>\n",
       "  </thead>\n",
       "  <tbody>\n",
       "    <tr>\n",
       "      <th>111669149733</th>\n",
       "      <td>0.011456</td>\n",
       "      <td>0.008717</td>\n",
       "      <td>0.248954</td>\n",
       "      <td>0.000897</td>\n",
       "      <td>0.000985</td>\n",
       "      <td>0.000000</td>\n",
       "      <td>-0.001357</td>\n",
       "      <td>0.005100</td>\n",
       "      <td>0.000791</td>\n",
       "      <td>0.032206</td>\n",
       "    </tr>\n",
       "    <tr>\n",
       "      <th>335007449205</th>\n",
       "      <td>0.023410</td>\n",
       "      <td>0.049895</td>\n",
       "      <td>0.243329</td>\n",
       "      <td>0.002019</td>\n",
       "      <td>0.022553</td>\n",
       "      <td>0.006616</td>\n",
       "      <td>-0.004922</td>\n",
       "      <td>0.082448</td>\n",
       "      <td>-0.002225</td>\n",
       "      <td>0.041465</td>\n",
       "    </tr>\n",
       "    <tr>\n",
       "      <th>171798691856</th>\n",
       "      <td>0.028191</td>\n",
       "      <td>0.004208</td>\n",
       "      <td>0.245176</td>\n",
       "      <td>0.001795</td>\n",
       "      <td>-0.001130</td>\n",
       "      <td>0.000000</td>\n",
       "      <td>-0.020151</td>\n",
       "      <td>0.033574</td>\n",
       "      <td>-0.023038</td>\n",
       "      <td>0.060386</td>\n",
       "    </tr>\n",
       "    <tr>\n",
       "      <th>1520418422900</th>\n",
       "      <td>-0.053368</td>\n",
       "      <td>0.029155</td>\n",
       "      <td>0.250223</td>\n",
       "      <td>0.002692</td>\n",
       "      <td>0.018966</td>\n",
       "      <td>0.003781</td>\n",
       "      <td>-0.002280</td>\n",
       "      <td>0.009350</td>\n",
       "      <td>0.000630</td>\n",
       "      <td>0.018921</td>\n",
       "    </tr>\n",
       "    <tr>\n",
       "      <th>798863917116</th>\n",
       "      <td>0.013724</td>\n",
       "      <td>0.041178</td>\n",
       "      <td>0.245238</td>\n",
       "      <td>0.006057</td>\n",
       "      <td>0.028412</td>\n",
       "      <td>0.001260</td>\n",
       "      <td>0.004612</td>\n",
       "      <td>0.093498</td>\n",
       "      <td>-0.000761</td>\n",
       "      <td>0.021739</td>\n",
       "    </tr>\n",
       "  </tbody>\n",
       "</table>\n",
       "</div>"
      ],
      "text/plain": [
       "               acceleration_x  acceleration_x_outliers  acceleration_y  \\\n",
       "bookingID                                                                \n",
       "111669149733         0.011456                 0.008717        0.248954   \n",
       "335007449205         0.023410                 0.049895        0.243329   \n",
       "171798691856         0.028191                 0.004208        0.245176   \n",
       "1520418422900       -0.053368                 0.029155        0.250223   \n",
       "798863917116         0.013724                 0.041178        0.245238   \n",
       "\n",
       "               acceleration_y_outliers  acceleration_z  \\\n",
       "bookingID                                                \n",
       "111669149733                  0.000897        0.000985   \n",
       "335007449205                  0.002019        0.022553   \n",
       "171798691856                  0.001795       -0.001130   \n",
       "1520418422900                 0.002692        0.018966   \n",
       "798863917116                  0.006057        0.028412   \n",
       "\n",
       "               acceleration_z_outliers    gyro_x  gyro_x_outliers    gyro_z  \\\n",
       "bookingID                                                                     \n",
       "111669149733                  0.000000 -0.001357         0.005100  0.000791   \n",
       "335007449205                  0.006616 -0.004922         0.082448 -0.002225   \n",
       "171798691856                  0.000000 -0.020151         0.033574 -0.023038   \n",
       "1520418422900                 0.003781 -0.002280         0.009350  0.000630   \n",
       "798863917116                  0.001260  0.004612         0.093498 -0.000761   \n",
       "\n",
       "               gyro_z_outliers  \n",
       "bookingID                       \n",
       "111669149733          0.032206  \n",
       "335007449205          0.041465  \n",
       "171798691856          0.060386  \n",
       "1520418422900         0.018921  \n",
       "798863917116          0.021739  "
      ]
     },
     "execution_count": 315,
     "metadata": {},
     "output_type": "execute_result"
    }
   ],
   "source": [
    "features_final_norm = features_final.copy()\n",
    "for col in features_final_norm.columns:\n",
    "    features_final_norm[col] = features_final_norm[col]/features_final_norm[col].max()\n",
    "    \n",
    "features_final_norm.head()"
   ]
  },
  {
   "cell_type": "code",
   "execution_count": 316,
   "metadata": {},
   "outputs": [
    {
     "data": {
      "text/html": [
       "<div>\n",
       "<style scoped>\n",
       "    .dataframe tbody tr th:only-of-type {\n",
       "        vertical-align: middle;\n",
       "    }\n",
       "\n",
       "    .dataframe tbody tr th {\n",
       "        vertical-align: top;\n",
       "    }\n",
       "\n",
       "    .dataframe thead th {\n",
       "        text-align: right;\n",
       "    }\n",
       "</style>\n",
       "<table border=\"1\" class=\"dataframe\">\n",
       "  <thead>\n",
       "    <tr style=\"text-align: right;\">\n",
       "      <th></th>\n",
       "      <th>label</th>\n",
       "    </tr>\n",
       "    <tr>\n",
       "      <th>bookingID</th>\n",
       "      <th></th>\n",
       "    </tr>\n",
       "  </thead>\n",
       "  <tbody>\n",
       "    <tr>\n",
       "      <th>111669149733</th>\n",
       "      <td>0</td>\n",
       "    </tr>\n",
       "    <tr>\n",
       "      <th>335007449205</th>\n",
       "      <td>1</td>\n",
       "    </tr>\n",
       "    <tr>\n",
       "      <th>171798691856</th>\n",
       "      <td>0</td>\n",
       "    </tr>\n",
       "    <tr>\n",
       "      <th>1520418422900</th>\n",
       "      <td>0</td>\n",
       "    </tr>\n",
       "    <tr>\n",
       "      <th>798863917116</th>\n",
       "      <td>0</td>\n",
       "    </tr>\n",
       "  </tbody>\n",
       "</table>\n",
       "</div>"
      ],
      "text/plain": [
       "               label\n",
       "bookingID           \n",
       "111669149733       0\n",
       "335007449205       1\n",
       "171798691856       0\n",
       "1520418422900      0\n",
       "798863917116       0"
      ]
     },
     "execution_count": 316,
     "metadata": {},
     "output_type": "execute_result"
    }
   ],
   "source": [
    "labels = labels.set_index('bookingID')\n",
    "labels.head()"
   ]
  },
  {
   "cell_type": "markdown",
   "metadata": {},
   "source": [
    "Now we randomly split our data into training and testing data  using the function <b>train_test_split</b>. "
   ]
  },
  {
   "cell_type": "code",
   "execution_count": 317,
   "metadata": {},
   "outputs": [
    {
     "name": "stdout",
     "output_type": "stream",
     "text": [
      "number of test samples : 3997\n",
      "number of training samples: 15985\n"
     ]
    }
   ],
   "source": [
    "from sklearn.model_selection import train_test_split\n",
    "\n",
    "X = np.asarray(features_final_norm)\n",
    "y = np.asarray(labels['label'])\n",
    "\n",
    "x_train, x_test, y_train, y_test = train_test_split(X, y, test_size=0.20, random_state=1)\n",
    "#x_train, x_test, y_train, y_test = train_test_split(features_final, y, test_size=0.20, random_state=1)\n",
    "\n",
    "print(\"number of test samples :\", x_test.shape[0])\n",
    "print(\"number of training samples:\",x_train.shape[0])"
   ]
  },
  {
   "cell_type": "markdown",
   "metadata": {},
   "source": [
    "### 1. Training using logistic Regression"
   ]
  },
  {
   "cell_type": "markdown",
   "metadata": {},
   "source": [
    "Lets build our model using __LogisticRegression__ from Scikit-learn package. \n",
    "Now lets fit our model with train set:"
   ]
  },
  {
   "cell_type": "code",
   "execution_count": 117,
   "metadata": {},
   "outputs": [],
   "source": [
    "scaler = StandardScaler()\n",
    "scaler.fit(x_train)\n",
    "X_train_scaled = scaler.transform(x_train)"
   ]
  },
  {
   "cell_type": "code",
   "execution_count": 318,
   "metadata": {},
   "outputs": [
    {
     "data": {
      "text/plain": [
       "LogisticRegression(C=1.0, class_weight=None, dual=False, fit_intercept=True,\n",
       "          intercept_scaling=1, max_iter=100, multi_class='warn',\n",
       "          n_jobs=None, penalty='l2', random_state=None, solver='liblinear',\n",
       "          tol=0.0001, verbose=0, warm_start=False)"
      ]
     },
     "execution_count": 318,
     "metadata": {},
     "output_type": "execute_result"
    }
   ],
   "source": [
    "LR = LogisticRegression(solver='liblinear').fit(x_train,y_train)\n",
    "LR"
   ]
  },
  {
   "cell_type": "markdown",
   "metadata": {},
   "source": [
    "Now we can predict using our test set:"
   ]
  },
  {
   "cell_type": "code",
   "execution_count": 319,
   "metadata": {},
   "outputs": [],
   "source": [
    "yhat = LR.predict(x_test)"
   ]
  },
  {
   "cell_type": "code",
   "execution_count": 320,
   "metadata": {},
   "outputs": [
    {
     "name": "stdout",
     "output_type": "stream",
     "text": [
      "Number of occurence of each value in result test set :\n",
      "0    3006\n",
      "1     991\n",
      "dtype: int64\n",
      "Number of occurence of each value in result test set after going through the ML:\n",
      "0    3905\n",
      "1      92\n",
      "dtype: int64\n",
      "Classification report : \n",
      "              precision    recall  f1-score   support\n",
      "\n",
      "           0       0.76      0.99      0.86      3006\n",
      "           1       0.65      0.06      0.11       991\n",
      "\n",
      "   micro avg       0.76      0.76      0.76      3997\n",
      "   macro avg       0.71      0.52      0.49      3997\n",
      "weighted avg       0.73      0.76      0.67      3997\n",
      "\n"
     ]
    }
   ],
   "source": [
    "test = y_test.T\n",
    "df = pd.Series(test)\n",
    "grouped = df.groupby(df).count()\n",
    "\n",
    "print(\"Number of occurence of each value in result test set :\")\n",
    "print(grouped)\n",
    "test = yhat.T\n",
    "df = pd.Series(test)\n",
    "grouped = df.groupby(df).count()\n",
    "print(\"Number of occurence of each value in result test set after going through the ML:\")\n",
    "print(grouped)\n",
    "print (\"Classification report : \\n\" + classification_report(y_test, yhat))"
   ]
  },
  {
   "cell_type": "markdown",
   "metadata": {},
   "source": [
    "### 2. Training using Neural Network"
   ]
  },
  {
   "cell_type": "code",
   "execution_count": 321,
   "metadata": {},
   "outputs": [],
   "source": [
    "model = tf.keras.models.Sequential([\n",
    "    # Flatten the results to feed into a DNN\n",
    "    tf.keras.layers.Flatten(),\n",
    "    tf.keras.layers.Dense(12, activation='relu'),\n",
    "    tf.keras.layers.Dense(12, activation='relu'),\n",
    "    # Only 1 output neuron. \n",
    "    tf.keras.layers.Dense(1, activation='sigmoid')\n",
    "])"
   ]
  },
  {
   "cell_type": "code",
   "execution_count": 322,
   "metadata": {},
   "outputs": [],
   "source": [
    "from tensorflow.keras.optimizers import RMSprop\n",
    "\n",
    "model.compile(loss='binary_crossentropy',\n",
    "              optimizer='adam',\n",
    "              metrics=['acc'])\n"
   ]
  },
  {
   "cell_type": "code",
   "execution_count": null,
   "metadata": {
    "scrolled": true
   },
   "outputs": [],
   "source": [
    "history = model.fit(x_train, y_train, epochs=100)"
   ]
  },
  {
   "cell_type": "code",
   "execution_count": 324,
   "metadata": {},
   "outputs": [
    {
     "name": "stdout",
     "output_type": "stream",
     "text": [
      "3997/3997 [==============================] - 0s 72us/sample - loss: 0.5325 - acc: 0.7628\n"
     ]
    },
    {
     "data": {
      "text/plain": [
       "[0.5324727588067331, 0.7628221]"
      ]
     },
     "execution_count": 324,
     "metadata": {},
     "output_type": "execute_result"
    }
   ],
   "source": [
    "model.evaluate(x_test, y_test)"
   ]
  },
  {
   "cell_type": "code",
   "execution_count": 325,
   "metadata": {},
   "outputs": [],
   "source": [
    "classes = model.predict(x_test)\n",
    "for i in range(len(classes)):\n",
    "    if classes[i] > 0.5:\n",
    "        classes[i] = 1\n",
    "    else:\n",
    "        classes[i] = 0"
   ]
  },
  {
   "cell_type": "code",
   "execution_count": 326,
   "metadata": {},
   "outputs": [
    {
     "name": "stdout",
     "output_type": "stream",
     "text": [
      "Number of occurence of each value in result test set :\n",
      "0    3006\n",
      "1     991\n",
      "dtype: int64\n",
      "Number of occurence of each value in result test set after going through the ML:\n",
      "0.0    3875\n",
      "1.0     121\n",
      "dtype: int64\n"
     ]
    }
   ],
   "source": [
    "test = y_test.T\n",
    "df = pd.Series(test)\n",
    "grouped = df.groupby(df).count()\n",
    "\n",
    "print(\"Number of occurence of each value in result test set :\")\n",
    "print(grouped)\n",
    "test = classes.T\n",
    "test = test[0][1:]\n",
    "df = pd.Series(test)\n",
    "grouped = df.groupby(df).count()\n",
    "print(\"Number of occurence of each value in result test set after going through the ML:\")\n",
    "print(grouped)"
   ]
  },
  {
   "cell_type": "code",
   "execution_count": 327,
   "metadata": {},
   "outputs": [
    {
     "name": "stdout",
     "output_type": "stream",
     "text": [
      "Classification report : \n",
      "              precision    recall  f1-score   support\n",
      "\n",
      "           0       0.77      0.99      0.86      3006\n",
      "           1       0.68      0.08      0.15       991\n",
      "\n",
      "   micro avg       0.76      0.76      0.76      3997\n",
      "   macro avg       0.72      0.53      0.50      3997\n",
      "weighted avg       0.74      0.76      0.69      3997\n",
      "\n"
     ]
    }
   ],
   "source": [
    "print (\"Classification report : \\n\" + classification_report(y_test, classes))"
   ]
  },
  {
   "cell_type": "markdown",
   "metadata": {},
   "source": [
    "### Conclusion\n",
    "\n",
    "To conclude, the neural network gave us the best accuracy, but overall it is not a very good fit for our data. the f1 score for driving considered dangerously is very low. So my first intuition was good for the extreme case, but clearly not for most of the case"
   ]
  },
  {
   "cell_type": "markdown",
   "metadata": {},
   "source": [
    "### Annexes\n",
    "\n",
    "I tried to train the data through SVM but it gave the worst precision score so I put it on a side"
   ]
  },
  {
   "cell_type": "markdown",
   "metadata": {},
   "source": [
    "### Training using Support Vector machine"
   ]
  },
  {
   "cell_type": "code",
   "execution_count": 203,
   "metadata": {},
   "outputs": [
    {
     "name": "stdout",
     "output_type": "stream",
     "text": [
      "Best CV score: -0.2968\n",
      "{'C': 2, 'gamma': 0.1}\n"
     ]
    }
   ],
   "source": [
    "parameters = [{'gamma': [0.001, 0.005, 0.01, 0.02, 0.05, 0.1],\n",
    "               'C': [0.1, 0.2, 0.25, 0.5, 1, 1.5, 2]}]\n",
    "               #'nu': [0.75, 0.8, 0.85, 0.9, 0.95, 0.97]}]\n",
    "\n",
    "reg1 = GridSearchCV(SVR(kernel='rbf', tol=0.01), parameters, cv=5, scoring='neg_mean_absolute_error')\n",
    "reg1.fit(x_train, y_train)\n",
    "\n",
    "print(\"Best CV score: {:.4f}\".format(reg1.best_score_))\n",
    "print(reg1.best_params_)"
   ]
  },
  {
   "cell_type": "code",
   "execution_count": 221,
   "metadata": {},
   "outputs": [
    {
     "data": {
      "text/plain": [
       "SVC(C=0.1, cache_size=200, class_weight=None, coef0=0.0,\n",
       "  decision_function_shape='ovr', degree=3, gamma=0.1, kernel='sigmoid',\n",
       "  max_iter=-1, probability=False, random_state=None, shrinking=True,\n",
       "  tol=0.001, verbose=False)"
      ]
     },
     "execution_count": 221,
     "metadata": {},
     "output_type": "execute_result"
    }
   ],
   "source": [
    "from sklearn import svm\n",
    "clf = svm.SVC(kernel='sigmoid', C=0.1, gamma=0.1 )\n",
    "clf.fit(x_train, y_train) "
   ]
  },
  {
   "cell_type": "code",
   "execution_count": 222,
   "metadata": {},
   "outputs": [],
   "source": [
    "y_pred1 = clf.predict(x_test)"
   ]
  },
  {
   "cell_type": "code",
   "execution_count": 225,
   "metadata": {
    "scrolled": true
   },
   "outputs": [
    {
     "name": "stdout",
     "output_type": "stream",
     "text": [
      "Number of occurence of each value in result test set :\n",
      "0    3006\n",
      "1     991\n",
      "dtype: int64\n",
      "Number of occurence of each value in result test set after going through the ML:\n",
      "0    3997\n",
      "dtype: int64\n",
      "Classification report : \n",
      "              precision    recall  f1-score   support\n",
      "\n",
      "           0       0.75      1.00      0.86      3006\n",
      "           1       0.00      0.00      0.00       991\n",
      "\n",
      "   micro avg       0.75      0.75      0.75      3997\n",
      "   macro avg       0.38      0.50      0.43      3997\n",
      "weighted avg       0.57      0.75      0.65      3997\n",
      "\n"
     ]
    }
   ],
   "source": [
    "#test = classes.T\n",
    "test = y_test.T\n",
    "#test = test[0][1:]\n",
    "df = pd.Series(test)\n",
    "grouped = df.groupby(df).count()\n",
    "\n",
    "print(\"Number of occurence of each value in result test set :\")\n",
    "print(grouped)\n",
    "test = y_pred1.T\n",
    "#test = test[0][1:]\n",
    "df = pd.Series(test)\n",
    "grouped = df.groupby(df).count()\n",
    "print(\"Number of occurence of each value in result test set after going through the ML:\")\n",
    "print(grouped)\n",
    "print (\"Classification report : \\n\" + classification_report(y_test, y_pred1))\n"
   ]
  }
 ],
 "metadata": {
  "kernelspec": {
   "display_name": "Python 3",
   "language": "python",
   "name": "python3"
  },
  "language_info": {
   "codemirror_mode": {
    "name": "ipython",
    "version": 3
   },
   "file_extension": ".py",
   "mimetype": "text/x-python",
   "name": "python",
   "nbconvert_exporter": "python",
   "pygments_lexer": "ipython3",
   "version": "3.7.3"
  }
 },
 "nbformat": 4,
 "nbformat_minor": 2
}
